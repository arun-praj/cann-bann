{
 "cells": [
  {
   "cell_type": "markdown",
   "metadata": {},
   "source": [
    "https://books.agiliq.com/projects/django-orm-cookbook/en/latest/and_query.html"
   ]
  },
  {
   "cell_type": "markdown",
   "metadata": {},
   "source": [
    "# [Making query](https://docs.djangoproject.com/en/4.1/topics/db/queries/)"
   ]
  },
  {
   "cell_type": "markdown",
   "metadata": {},
   "source": [
    "### 3. Saving ForeignKey and ManytoMany fields\n",
    "Updating a *ForeignKey* field works exactly the same way as saving a normal field – assign an object of the right type to the field in question.\n",
    "*example*\n",
    "```python\n",
    "    from blog.models import Blog, Entry\n",
    "    entry = Entry.objects.get(pk=1)\n",
    "    cheese_blog = Blog.objects.get(name=\"Cheddar Talk\")\n",
    "    entry.blog = cheese_blog\n",
    " entry.save()\n",
    "```\n",
    "\n",
    "Updating a ManyToManyField works a little differently – use the add() method on the field to add a record to the relation. This example adds the Author instance joe to the entry object:\n",
    "```python\n",
    "    from blog.models import Author\n",
    "    joe = Author.objects.create(name=\"Joe\")\n",
    "    entry.authors.add(joe)\n",
    "```\n",
    "\n"
   ]
  },
  {
   "cell_type": "markdown",
   "metadata": {},
   "source": [
    "# QuserySet\n",
    "\n",
    "Usually when you’ll interact with a QuerySet you’ll use it by chaining filters. To make this work, most QuerySet methods return new querysets. These methods are covered in detail later in this section."
   ]
  },
  {
   "cell_type": "markdown",
   "metadata": {},
   "source": [
    "## Methods that return new QuerySets¶"
   ]
  },
  {
   "cell_type": "markdown",
   "metadata": {},
   "source": [
    "---"
   ]
  },
  {
   "cell_type": "markdown",
   "metadata": {},
   "source": [
    "### 1. [Filter]()"
   ]
  },
  {
   "cell_type": "markdown",
   "metadata": {},
   "source": [
    "```python\n",
    "    Model.objects.filter(name='Arun').filter(gender='male')\n",
    "```\n",
    "*SQL*\n",
    "```sql\n",
    "    SELECT \"boards\".\"id\", \"boards\".\"created_at\", \"boards\".\"updated_at\", \"boards\".\"is_active\", \"boards\".\"board_name\", \"boards\".\"background_color\", \"boards\".\"author_id\" FROM \"boards\" WHERE (\"boards\".\"author_id\" = 2 AND \"boards\".\"is_active\")\n",
    "```\n",
    "#### returns all the column with name Arun  and filter these data with gender 'male' "
   ]
  },
  {
   "cell_type": "markdown",
   "metadata": {},
   "source": [
    "---"
   ]
  },
  {
   "cell_type": "markdown",
   "metadata": {},
   "source": [
    "### [3. Create](https://docs.djangoproject.com/en/4.1/ref/models/querysets/#create)\n",
    "A convenience method for creating an object and saving it all in one step. Thus:\n",
    "```python\n",
    "    p = Person.objects.create(first_name=\"Bruce\", last_name=\"Springsteen\")\n",
    "```\n",
    "and \n",
    "```python\n",
    "    p = Person(first_name=\"Bruce\", last_name=\"Springsteen\")\n",
    "    p.save(force_insert=True)\n",
    "```\n",
    "are equivalent"
   ]
  },
  {
   "cell_type": "markdown",
   "metadata": {},
   "source": [
    "---"
   ]
  },
  {
   "cell_type": "markdown",
   "metadata": {},
   "source": [
    "### 4. [Update](https://docs.djangoproject.com/en/4.1/ref/models/querysets/#update)\n",
    "\n",
    "### 4.1. [bulk_update()](https://docs.djangoproject.com/en/4.1/ref/models/querysets/#bulk-update)\n",
    "https://www.sankalpjonna.com/learn-django/running-a-bulk-update-with-django\n",
    "\n",
    "This method efficiently updates the given fields on the provided model instances, generally with one query, and returns the number of objects updated:\n",
    "```python\n",
    "    bulk_update(objs, fields, batch_size=None)¶\n",
    "```\n",
    "\n",
    "\n",
    "*example*:\n",
    "\n",
    "```python\n",
    "    update_list = []\n",
    "    model_qs= ModelClass.objects.filter(name = 'bar')\n",
    "    for model_obj in model_qs:\n",
    "        model_obj.name = \"foo\" # Or what ever the value is for simplicty im providing foo only\n",
    "        update_list.append(model_obj)\n",
    "    \n",
    "    ModelClass.objects.bulk_update(update_list,['name'])\n",
    "\n",
    "```"
   ]
  },
  {
   "cell_type": "markdown",
   "metadata": {},
   "source": [
    "# Method that doesnot return QuerySet \n",
    "\n",
    "These methid do not use cache . Rather they call database each time they;re called\n"
   ]
  },
  {
   "cell_type": "markdown",
   "metadata": {},
   "source": [
    "### [1. get()](https://docs.djangoproject.com/en/4.1/ref/models/querysets/#get)\n",
    "\n",
    "Returns the object instead of queryset. Must use lookups that are guaranteed unique, eg pk, unique constraint\n",
    "\n",
    "```python\n",
    "    Entry.objects.get(id=1)\n",
    "    Entry.objects.get(Q(blog=blog) & Q(entry_number=1))\n",
    "\n",
    "```\n",
    "If you expect a queryset to already return one row, you can use get() without any arguments to return the object for that row:\n",
    "```python\n",
    "    Entry.objects.filter(pk=1).get()\n",
    "```\n",
    "\n",
    "returns Model.DoesnotExist if not found\n",
    "\n",
    "returns Model.MultipleObjectFound if more that one object is found\n",
    "\n"
   ]
  },
  {
   "cell_type": "markdown",
   "metadata": {},
   "source": [
    "# Related Object Reference"
   ]
  },
  {
   "cell_type": "markdown",
   "metadata": {},
   "source": [
    "class RelatedManager\n",
    "\n",
    "A “related manager” is a manager used in a one-to-many or many-to-many related context. This happens in two cases:\n",
    "\n",
    "The “other side” of a ForeignKey relation. That is:\n",
    "\n",
    "```python\n",
    "from django.db import models\n",
    "\n",
    "class Blog(models.Model):\n",
    "    # ...\n",
    "    pass\n",
    "\n",
    "class Entry(models.Model):\n",
    "    blog = models.ForeignKey(Blog, on_delete=models.CASCADE, null=True)\n",
    "\n",
    "```\n",
    "In the above example, the methods below will be available on the manager blog.entry_set.\n",
    "```python \n",
    "Both sides of a ManyToManyField relation:\n",
    "\n",
    "class Topping(models.Model):\n",
    "    # ...\n",
    "    pass\n",
    "\n",
    "class Pizza(models.Model):\n",
    "    toppings = models.ManyToManyField(Topping)\n",
    "In this example, the methods below will be available both on topping.pizza_set and on pizza.toppings."
   ]
  },
  {
   "cell_type": "markdown",
   "metadata": {},
   "source": [
    "# FIELD LOOKUPS\n",
    "\n",
    "https://docs.djangoproject.com/en/dev/ref/models/querysets/#field-lookups\n",
    "\n",
    "\n",
    "https://www.w3schools.com/django/django_ref_field_lookups.php\n",
    "\n",
    "\n",
    "Field lookups are how you specify the meat of an SQL WHERE clause. They’re specified as keyword arguments to the QuerySet methods filter(), exclude() and get().\n",
    "```sql\n",
    "    SELECT .... WHERE ....\n",
    "```"
   ]
  },
  {
   "cell_type": "markdown",
   "metadata": {},
   "source": [
    "### 1. [in](https://docs.djangoproject.com/en/4.1/ref/models/querysets/#in)\n",
    "```python\n",
    "    Entry.objects.filter(id__in=[1, 3, 4])\n",
    "    Entry.objects.filter(headline__in='abc')\n",
    "```\n",
    "*sql*\n",
    "```sql\n",
    "    SELECT ... WHERE id IN (1, 3, 4);\n",
    "    SELECT ... WHERE headline IN ('a', 'b', 'c');\n",
    "```"
   ]
  },
  {
   "cell_type": "markdown",
   "metadata": {},
   "source": []
  }
 ],
 "metadata": {
  "kernelspec": {
   "display_name": "Python 3.10.6 ('venv': venv)",
   "language": "python",
   "name": "python3"
  },
  "language_info": {
   "name": "python",
   "version": "3.10.6"
  },
  "orig_nbformat": 4,
  "vscode": {
   "interpreter": {
    "hash": "fd20a7494483f0c7eb3baa45f3a94b0bdf27042f5eeaea68e96318738ae29311"
   }
  }
 },
 "nbformat": 4,
 "nbformat_minor": 2
}
