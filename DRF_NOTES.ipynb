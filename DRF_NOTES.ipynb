{
 "cells": [
  {
   "cell_type": "markdown",
   "metadata": {},
   "source": [
    "Table of content\n",
    "\n",
    "|SN   |Title   |   |   |   |\n",
    "|---|---|---|---|---|\n",
    "| 1  | Serializers Relation\n",
    "   1|   1| Reverse Relation   |   |\n",
    "|   |   |   |   |   |\n",
    "|   |   |   |   |   |"
   ]
  },
  {
   "cell_type": "markdown",
   "metadata": {},
   "source": [
    "# Serializers Relation"
   ]
  },
  {
   "cell_type": "markdown",
   "metadata": {},
   "source": [
    "## Reverse Relation\n",
    "\n",
    "Note that reverse relationships are not automatically included by the ModelSerializer and HyperlinkedModelSerializer classes. To include a reverse relationship, you must explicitly add it to the fields list. For example:\n",
    "```python\n",
    "class AlbumSerializer(serializers.ModelSerializer):\n",
    "    class Meta:\n",
    "        fields = ['tracks', ...]\n",
    "```\n",
    "\n",
    "You'll normally want to ensure that you've set an appropriate *related_name* \n",
    "argument on the relationship, that you can use as the field name. For example:\n",
    "\n",
    "```python\n",
    "class Track(models.Model):\n",
    "    album = models.ForeignKey(Album, related_name='tracks', on_delete=models.CASCADE)\n",
    "    ...\n",
    "\n",
    "```\n",
    "\n",
    "If you have not set a related name for the reverse relationship, you'll need to use the automatically generated related name in the fields argument. For example:\n",
    "\n",
    "```python\n",
    "\n",
    "class AlbumSerializer(serializers.ModelSerializer):\n",
    "    class Meta:\n",
    "        fields = ['track_set', ...]\n",
    "\n",
    "\n",
    "```"
   ]
  },
  {
   "cell_type": "code",
   "execution_count": null,
   "metadata": {},
   "outputs": [],
   "source": []
  },
  {
   "cell_type": "code",
   "execution_count": null,
   "metadata": {},
   "outputs": [
    {
     "ename": "",
     "evalue": "",
     "output_type": "error",
     "traceback": [
      "\u001b[1;31mRunning cells with 'Python 3.10.6 ('venv': venv)' requires ipykernel package.\n",
      "\u001b[1;31mRun the following command to install 'ipykernel' into the Python environment. \n",
      "\u001b[1;31mCommand: 'c:/Users/Aaarr/Desktop/CannBann/server/venv/Scripts/python.exe -m pip install ipykernel -U --force-reinstall'"
     ]
    }
   ],
   "source": []
  },
  {
   "cell_type": "code",
   "execution_count": null,
   "metadata": {},
   "outputs": [],
   "source": []
  }
 ],
 "metadata": {
  "kernelspec": {
   "display_name": "Python 3.10.6 ('venv': venv)",
   "language": "python",
   "name": "python3"
  },
  "language_info": {
   "name": "python",
   "version": "3.10.6"
  },
  "orig_nbformat": 4,
  "vscode": {
   "interpreter": {
    "hash": "fd20a7494483f0c7eb3baa45f3a94b0bdf27042f5eeaea68e96318738ae29311"
   }
  }
 },
 "nbformat": 4,
 "nbformat_minor": 2
}
