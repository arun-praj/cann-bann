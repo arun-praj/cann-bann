{
 "cells": [
  {
   "cell_type": "markdown",
   "metadata": {},
   "source": [
    "Table of content\n",
    "\n",
    "|SN   |Title   |   |   |   |\n",
    "|---|---|---|---|---|\n",
    "| 1  | Serializers Relation\n",
    "   ->|   1| Reverse Relation   |   |\n",
    "|   |   |   |   |   |\n",
    "|  2 |  ViewSet |   |   |   |\n",
    "|  -> |  1 | ModelViewSet  |   |   |"
   ]
  },
  {
   "cell_type": "markdown",
   "metadata": {},
   "source": [
    "# 1. Serializers Relation"
   ]
  },
  {
   "cell_type": "markdown",
   "metadata": {},
   "source": [
    "## Reverse Relation\n",
    "\n",
    "Note that reverse relationships are not automatically included by the ModelSerializer and HyperlinkedModelSerializer classes. To include a reverse relationship, you must explicitly add it to the fields list. For example:\n",
    "```python\n",
    "class AlbumSerializer(serializers.ModelSerializer):\n",
    "    class Meta:\n",
    "        fields = ['tracks', ...]\n",
    "```\n",
    "\n",
    "You'll normally want to ensure that you've set an appropriate *related_name* \n",
    "argument on the relationship, that you can use as the field name. For example:\n",
    "\n",
    "```python\n",
    "class Track(models.Model):\n",
    "    album = models.ForeignKey(Album, related_name='tracks', on_delete=models.CASCADE)\n",
    "    ...\n",
    "\n",
    "```\n",
    "\n",
    "If you have not set a related name for the reverse relationship, you'll need to use the automatically generated related name in the fields argument. For example:\n",
    "\n",
    "```python\n",
    "\n",
    "class AlbumSerializer(serializers.ModelSerializer):\n",
    "    class Meta:\n",
    "        fields = ['track_set', ...]\n",
    "\n",
    "\n",
    "```"
   ]
  },
  {
   "cell_type": "markdown",
   "metadata": {},
   "source": [
    "# 2. ViewSet"
   ]
  },
  {
   "cell_type": "markdown",
   "metadata": {},
   "source": [
    "## 1. ModelViewSet\n",
    "Rather than writing your own viewsets, you'll often want to use the existing base classes that provide a default set of behavior. For example:"
   ]
  },
  {
   "cell_type": "markdown",
   "metadata": {},
   "source": [
    "*Example*\n",
    "\n",
    "```python\n",
    "    \n",
    "    from rest_framework import viewsets\n",
    "    from rest_framework.decorators import action\n",
    "\n",
    "    from .model import ExampleModel\n",
    "    from .serializer import ExampleSerializer\n",
    "\n",
    "    class ExampleViewSet(viewsets.ModelViewSet):\n",
    "        \n",
    "        queryset = ExampleModel.objects.all()\n",
    "        serializer_class = ExampleSerializer\n",
    "\n",
    "        # queryset with filtering\n",
    "        def get_queryset(self):\n",
    "            queryset = self.queryset\n",
    "            query_set = queryset.filter(is_active=false)\n",
    "            return query_set\n",
    "\n",
    "        #you could restrict permissions to everything except the list action #similar to this:\n",
    "        def get_permissions(self):\n",
    "            \"\"\"\n",
    "            Instantiates and returns the list of permissions that this view requires.\n",
    "            \"\"\"\n",
    "            if self.action == 'list':\n",
    "                permission_classes = [IsAuthenticated]\n",
    "            else:\n",
    "                permission_classes = [IsAdminUser]\n",
    "            return [permission() for permission in permission_classes]\n",
    "        \n",
    "        \n",
    "        #view set actions\n",
    "        def list(self, request):\n",
    "        def create(self, request):\n",
    "        def retrieve(self, request, pk=None):\n",
    "        def update(self, request, pk=None):\n",
    "        def partial_update(self, request, pk=None):\n",
    "        def destroy(self, request, pk=None):\n",
    "\n",
    "\n",
    "        #custom action --> Allows following\n",
    "\n",
    "        #detail = boolean indiaction , provides primary key from url\n",
    "        #method = default get , else [post, patch, ...]\n",
    "        #permission_classes=\n",
    "        #serializer_classes=\n",
    "        #filter_backends=\n",
    "\n",
    "        @action(detail=False,methods=['post'])\n",
    "        def change_active_status(self,request,pk=None):\n",
    "            # will be available at /examples/change_activestatus\n",
    "        @action(detail=True,methods=['post'])\n",
    "        def change_password(self,request):\n",
    "            # will be available at POST /examples/{pk}/change_password\n",
    "\n",
    "        #extra action for custom action\n",
    "        @change_password.mapping.delete\n",
    "        def delete_password(self, request, pk=None):\n",
    "            \"\"\"Delete the user's password.\"\"\"\n",
    "\n",
    "\n",
    "\n",
    "\n",
    "\n",
    "```"
   ]
  },
  {
   "cell_type": "markdown",
   "metadata": {},
   "source": []
  }
 ],
 "metadata": {
  "kernelspec": {
   "display_name": "Python 3.10.6 ('venv': venv)",
   "language": "python",
   "name": "python3"
  },
  "language_info": {
   "name": "python",
   "version": "3.10.6"
  },
  "orig_nbformat": 4,
  "vscode": {
   "interpreter": {
    "hash": "fd20a7494483f0c7eb3baa45f3a94b0bdf27042f5eeaea68e96318738ae29311"
   }
  }
 },
 "nbformat": 4,
 "nbformat_minor": 2
}
